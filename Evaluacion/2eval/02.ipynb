{
 "cells": [
  {
   "cell_type": "markdown",
   "metadata": {},
   "source": [
    "### Ejercicio 2. XPath y XQuery\n",
    "\n",
    "En total son 10 ejercicios. Cada ejercicio tiene un valor de 1 punto.\n",
    "\n",
    "#### Recursos\n",
    "\n",
    "- [XML base ejercicio](_res/02_liga.xml):  Utilizar este fichero XML para realizar las consultas.\n",
    "\n",
    "#### A tener en cuenta\n",
    "\n",
    "- Para obtener varios valores en XPath una forma es separar por comas (nombre, edad)\n",
    "- Para filtrar de forma combinada, se pueden anidar los predicados (//estadios/estadio[@identificador=//equipo..])"
   ]
  },
  {
   "cell_type": "markdown",
   "metadata": {
    "vscode": {
     "languageId": "xml"
    }
   },
   "source": [
    "## Ejercicios\n",
    "1. Nombre de la temporada y categoría"
   ]
  },
  {
   "cell_type": "code",
   "execution_count": null,
   "metadata": {
    "vscode": {
     "languageId": "xml"
    }
   },
   "outputs": [],
   "source": [
    "//ligas/liga/@*"
   ]
  },
  {
   "cell_type": "code",
   "execution_count": null,
   "metadata": {
    "vscode": {
     "languageId": "xml"
    }
   },
   "outputs": [],
   "source": [
    "(no obtienes el valor) -> MAL\n",
    "2011_2012\n",
    "SegundaDivision"
   ]
  },
  {
   "cell_type": "markdown",
   "metadata": {},
   "source": [
    "2. Nombre (texto) de todos los jugadores que juegan de delanteros"
   ]
  },
  {
   "cell_type": "code",
   "execution_count": null,
   "metadata": {
    "vscode": {
     "languageId": "xpath"
    }
   },
   "outputs": [],
   "source": [
    "//jugadores/jugador[@demarcacion=\"Delantero\"]/nombre"
   ]
  },
  {
   "cell_type": "code",
   "execution_count": null,
   "metadata": {
    "vscode": {
     "languageId": "xml"
    }
   },
   "outputs": [],
   "source": [
    "<nombre>Lionel</nombre>\n",
    "<nombre>Cristiano Ronaldo</nombre>\n",
    "<nombre>Neymar da Silva</nombre>\n",
    "<nombre>Kylian</nombre>\n",
    "<nombre>Sergio</nombre>\n",
    "<nombre>Robert</nombre>\n",
    "<nombre>Paulo Bruno</nombre>\n",
    "<nombre>Raheem</nombre>\n",
    "<nombre>Sergio</nombre>"
   ]
  },
  {
   "cell_type": "markdown",
   "metadata": {},
   "source": [
    "3. Nombre (elemento) de todos los jugadores que juegan de Centrocampista, y que sean Extrangeros"
   ]
  },
  {
   "cell_type": "code",
   "execution_count": null,
   "metadata": {
    "vscode": {
     "languageId": "xpath"
    }
   },
   "outputs": [],
   "source": [
    "(MAL) //jugadores/jugador[@demarcacion=\"Centro\"] | nacionalidad[@tipo=\"Extranjera\"]"
   ]
  },
  {
   "cell_type": "code",
   "execution_count": null,
   "metadata": {
    "vscode": {
     "languageId": "xml"
    }
   },
   "outputs": [],
   "source": [
    "<nombre>Luka</nombre>\n",
    "<apellido>Modrić</apellido>\n",
    "<nombre>Sergio</nombre>\n",
    "<apellido>Leonel</apellido>\n",
    "<apellido>Agüero</apellido>\n",
    "<nombre>Bernardo</nombre>\n",
    "<apellido>Silva</apellido>\n",
    "<nombre>Houssem</nombre>\n",
    "<apellido>Aouar</apellido>\n",
    "<nombre>Jadon</nombre>\n",
    "<apellido>Malik</apellido>\n",
    "<apellido>Sancho</apellido>"
   ]
  },
  {
   "cell_type": "markdown",
   "metadata": {},
   "source": [
    "4. Nombre (elemento) del entrenador del Real Madrid"
   ]
  },
  {
   "cell_type": "code",
   "execution_count": null,
   "metadata": {
    "vscode": {
     "languageId": "xpath"
    }
   },
   "outputs": [],
   "source": []
  },
  {
   "cell_type": "code",
   "execution_count": null,
   "metadata": {
    "vscode": {
     "languageId": "xml"
    }
   },
   "outputs": [],
   "source": [
    "<nombre>Diego</nombre>"
   ]
  },
  {
   "cell_type": "markdown",
   "metadata": {},
   "source": [
    "5. Total de titulos conseguidos por los entrenadores españoles"
   ]
  },
  {
   "cell_type": "code",
   "execution_count": null,
   "metadata": {
    "vscode": {
     "languageId": "xpath"
    }
   },
   "outputs": [],
   "source": []
  },
  {
   "cell_type": "code",
   "execution_count": null,
   "metadata": {
    "vscode": {
     "languageId": "xml"
    }
   },
   "outputs": [],
   "source": [
    "17"
   ]
  },
  {
   "cell_type": "markdown",
   "metadata": {},
   "source": [
    "6. Alias de los jugadores del real madrid"
   ]
  },
  {
   "cell_type": "code",
   "execution_count": null,
   "metadata": {
    "vscode": {
     "languageId": "xpath"
    }
   },
   "outputs": [],
   "source": []
  },
  {
   "cell_type": "code",
   "execution_count": null,
   "metadata": {
    "vscode": {
     "languageId": "xml"
    }
   },
   "outputs": [],
   "source": [
    "<alias>La Pulga</alias>\n",
    "<alias>CR7</alias>\n",
    "<alias>Neymar</alias>\n",
    "<alias>Donatello</alias>\n",
    "<alias>The Prince</alias>"
   ]
  },
  {
   "cell_type": "markdown",
   "metadata": {},
   "source": [
    "7. Nombre de los equipos de \"PrimeraDivision\""
   ]
  },
  {
   "cell_type": "code",
   "execution_count": null,
   "metadata": {
    "vscode": {
     "languageId": "xpath"
    }
   },
   "outputs": [],
   "source": []
  },
  {
   "cell_type": "code",
   "execution_count": null,
   "metadata": {
    "vscode": {
     "languageId": "xml"
    }
   },
   "outputs": [],
   "source": [
    "<nombre>Real Madrid C.F.</nombre>\n",
    "<nombre>F.C. Barcelona</nombre>\n",
    "<nombre>Atletico Madrid C.F</nombre>\n",
    "<nombre>Valencia C.F</nombre>"
   ]
  },
  {
   "cell_type": "markdown",
   "metadata": {},
   "source": [
    "8. Nombre del estadio de los equipos de \"PrimeraDivision\""
   ]
  },
  {
   "cell_type": "code",
   "execution_count": null,
   "metadata": {
    "vscode": {
     "languageId": "xpath"
    }
   },
   "outputs": [],
   "source": []
  },
  {
   "cell_type": "code",
   "execution_count": null,
   "metadata": {
    "vscode": {
     "languageId": "xml"
    }
   },
   "outputs": [],
   "source": [
    "<nombre>Santiago Bernabéu</nombre>\n",
    "<nombre>Camp Nou</nombre>\n",
    "<nombre>Wanda Metropolitano</nombre>\n",
    "<nombre>Mestalla</nombre>"
   ]
  },
  {
   "cell_type": "markdown",
   "metadata": {},
   "source": [
    "9. (XQuery) Informació año de constitución de los equipos que se constituyeron antes de 1920.<br>*Formato de salida debe ser igual al mostrado*"
   ]
  },
  {
   "cell_type": "code",
   "execution_count": null,
   "metadata": {
    "vscode": {
     "languageId": "xpath"
    }
   },
   "outputs": [],
   "source": []
  },
  {
   "cell_type": "code",
   "execution_count": null,
   "metadata": {
    "vscode": {
     "languageId": "xml"
    }
   },
   "outputs": [],
   "source": [
    "<fecha_creacion>6/Marzo/1902</fecha_creacion>\n",
    "<fecha_creacion>26/Abril/1903</fecha_creacion>\n",
    "<fecha_creacion>18/Marzo/1919</fecha_creacion>"
   ]
  },
  {
   "cell_type": "markdown",
   "metadata": {},
   "source": [
    "10. (XQuery) Nombre y apellidos de los jugadores que juegan de Delanteros.<br>*Formato de salida debe ser igual al mostrado*"
   ]
  },
  {
   "cell_type": "code",
   "execution_count": null,
   "metadata": {
    "vscode": {
     "languageId": "xpath"
    }
   },
   "outputs": [],
   "source": []
  },
  {
   "cell_type": "code",
   "execution_count": null,
   "metadata": {
    "vscode": {
     "languageId": "xml"
    }
   },
   "outputs": [],
   "source": [
    "<nombre_completo>AndrésMessi, Lionel</nombre_completo>\n",
    "<nombre_completo>dos SantosAveiro, Cristiano Ronaldo</nombre_completo>\n",
    "<nombre_completo>SantosJúnior, Neymar da Silva</nombre_completo>\n",
    "<nombre_completo>MbappéLottin, Kylian</nombre_completo>\n",
    "<nombre_completo>RamosGarcía, Sergio</nombre_completo>\n",
    "<nombre_completo>Lewandowski, Robert</nombre_completo>\n",
    "<nombre_completo>ExequielDybala, Paulo Bruno</nombre_completo>\n",
    "<nombre_completo>ShaquillaSterling, Raheem</nombre_completo>\n",
    "<nombre_completo>ReguilónCastillo, Sergio</nombre_completo>"
   ]
  }
 ],
 "metadata": {
  "kernelspec": {
   "display_name": "Python 3",
   "language": "python",
   "name": "python3"
  },
  "language_info": {
   "codemirror_mode": {
    "name": "ipython",
    "version": 3
   },
   "file_extension": ".py",
   "mimetype": "text/x-python",
   "name": "python",
   "nbconvert_exporter": "python",
   "pygments_lexer": "ipython3",
   "version": "3.9.13"
  }
 },
 "nbformat": 4,
 "nbformat_minor": 2
}
